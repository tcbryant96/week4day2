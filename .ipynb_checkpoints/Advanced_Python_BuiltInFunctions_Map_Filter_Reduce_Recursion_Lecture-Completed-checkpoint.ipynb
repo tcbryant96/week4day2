{
 "cells": [
  {
   "cell_type": "markdown",
   "metadata": {},
   "source": [
    "# Map, Filter, Reduce, Lambda & Recursion"
   ]
  },
  {
   "cell_type": "markdown",
   "metadata": {},
   "source": [
    "## Tasks Today:\n",
    "\n",
    "1) <b>Lambda Functions</b> <br>\n",
    " &nbsp;&nbsp;&nbsp;&nbsp; a) Syntax <br>\n",
    " &nbsp;&nbsp;&nbsp;&nbsp; b) Saving to a Variable <br>\n",
    " &nbsp;&nbsp;&nbsp;&nbsp; c) Multiple Inputs <br>\n",
    " &nbsp;&nbsp;&nbsp;&nbsp; d) Passing a Lambda into a Function <br>\n",
    " &nbsp;&nbsp;&nbsp;&nbsp; e) Returning a Lambda from a Function <br>\n",
    " &nbsp;&nbsp;&nbsp;&nbsp; f) In-Class Exercise #1 <br>\n",
    "2) <b>Map</b> <br>\n",
    " &nbsp;&nbsp;&nbsp;&nbsp; a) Syntax <br>\n",
    " &nbsp;&nbsp;&nbsp;&nbsp; b) Using Lambda's with Map <br>\n",
    " &nbsp;&nbsp;&nbsp;&nbsp; c) In-Class Exercise #2 <br>\n",
    "3) <b>Filter</b> <br>\n",
    " &nbsp;&nbsp;&nbsp;&nbsp; a) Syntax <br>\n",
    " &nbsp;&nbsp;&nbsp;&nbsp; b) Using Lambda's with Filter <br>\n",
    " &nbsp;&nbsp;&nbsp;&nbsp; c) In-Class Exercise #3 <br>\n",
    "4) <b>Reduce</b> <br>\n",
    " &nbsp;&nbsp;&nbsp;&nbsp; a) Syntax <br>\n",
    " &nbsp;&nbsp;&nbsp;&nbsp; b) Using Lambda's with Reduce <br>\n",
    " &nbsp;&nbsp;&nbsp;&nbsp; c) In-Class Exercise #4 <br>\n",
    "5) <b>Recursion</b> <br>\n",
    " &nbsp;&nbsp;&nbsp;&nbsp; a) Implementing a Base <br>\n",
    " &nbsp;&nbsp;&nbsp;&nbsp; b) Writing a Factorial Function <br>\n",
    " &nbsp;&nbsp;&nbsp;&nbsp; c) In-Class Exercise #5 <br>\n",
    "6) <b>Generators & Iterators</b> <br>\n",
    " &nbsp;&nbsp;&nbsp;&nbsp; a) Yield Keyword <br>\n",
    " &nbsp;&nbsp;&nbsp;&nbsp; b) Inifinite Generator <br>\n",
    " &nbsp;&nbsp;&nbsp;&nbsp; c) In-Class Exercise #6 <br>\n",
    "7) <b>Exercises</b> <br>\n",
    " &nbsp;&nbsp;&nbsp;&nbsp; a) Exercise #1 - Filtering Empty Strings <br>\n",
    " &nbsp;&nbsp;&nbsp;&nbsp; b) Exercise #2 - Sorting with Last Name <br>\n",
    " &nbsp;&nbsp;&nbsp;&nbsp; c) Exercise #3 - Conversion to Farhenheit <br>\n",
    " &nbsp;&nbsp;&nbsp;&nbsp; d) Exercise #4 - Fibonacci Sequence <br>"
   ]
  },
  {
   "cell_type": "markdown",
   "metadata": {},
   "source": [
    "## Lambda Functions <br>\n",
    "<p>Lambda functions... or \"Anonymous Functions\" are referring to inline functions with no name. The keyword lambda denotes the no name function, and executes within a single line. Without saving it to a variable; however, it is not able to be used, unless passed in either as a paramater or within list comprehension.<br>Written as \"(keyword lambda) (one or more inputs) (colon) (function to be executed)\"</p>"
   ]
  },
  {
   "cell_type": "markdown",
   "metadata": {},
   "source": [
    "#### Syntax"
   ]
  },
  {
   "cell_type": "code",
   "execution_count": null,
   "metadata": {},
   "outputs": [],
   "source": [
    "def add_two(x):\n",
    "    return x + 2\n",
    "\n",
    "print(add_two)"
   ]
  },
  {
   "cell_type": "code",
   "execution_count": null,
   "metadata": {},
   "outputs": [],
   "source": [
    "print(lambda abc: abc + 2)"
   ]
  },
  {
   "cell_type": "code",
   "execution_count": null,
   "metadata": {},
   "outputs": [],
   "source": [
    "# Execute a lambda function - IIFE - Immediately Invoked Function Expression\n",
    "\n",
    "(lambda y: y + 2)(19)"
   ]
  },
  {
   "cell_type": "markdown",
   "metadata": {},
   "source": [
    "#### Saving to a Variable"
   ]
  },
  {
   "cell_type": "code",
   "execution_count": null,
   "metadata": {},
   "outputs": [],
   "source": [
    "named_lambda = lambda x: x + 2\n",
    "\n",
    "print(named_lambda)\n",
    "\n",
    "named_lambda(15)"
   ]
  },
  {
   "cell_type": "markdown",
   "metadata": {},
   "source": [
    "#### Multiple Inputs"
   ]
  },
  {
   "cell_type": "code",
   "execution_count": null,
   "metadata": {},
   "outputs": [],
   "source": [
    "def multiply(x, y, z):\n",
    "    return x * y * z\n",
    "\n",
    "multiply(3, 5, 7)"
   ]
  },
  {
   "cell_type": "code",
   "execution_count": null,
   "metadata": {},
   "outputs": [],
   "source": [
    "(lambda x, y, z: x * y * z)(3, 5, 7)"
   ]
  },
  {
   "cell_type": "markdown",
   "metadata": {},
   "source": [
    "#### Passing a Function into a Function"
   ]
  },
  {
   "cell_type": "code",
   "execution_count": null,
   "metadata": {},
   "outputs": [],
   "source": [
    "def apply_func(f, name):\n",
    "    \"\"\"\n",
    "    f -> function to execute\n",
    "    name -> name to execute the function on\n",
    "    \"\"\"\n",
    "    return f(name)\n",
    "\n",
    "\n",
    "def get_first_letter(string):\n",
    "    return string[0]\n",
    "\n",
    "\n",
    "apply_func(get_first_letter, 'Brian')"
   ]
  },
  {
   "cell_type": "code",
   "execution_count": null,
   "metadata": {},
   "outputs": [],
   "source": [
    "help(apply_func)"
   ]
  },
  {
   "cell_type": "code",
   "execution_count": null,
   "metadata": {},
   "outputs": [],
   "source": [
    "get_first_letter"
   ]
  },
  {
   "cell_type": "markdown",
   "metadata": {},
   "source": [
    "#### Passing a Lambda into a Function"
   ]
  },
  {
   "cell_type": "code",
   "execution_count": null,
   "metadata": {},
   "outputs": [],
   "source": [
    "apply_func(lambda string: string[-1], 'codingtemple')"
   ]
  },
  {
   "cell_type": "markdown",
   "metadata": {},
   "source": [
    "#### Returning a Function from a Function"
   ]
  },
  {
   "cell_type": "code",
   "execution_count": null,
   "metadata": {
    "scrolled": true
   },
   "outputs": [],
   "source": [
    "# Regular defined function\n",
    "def create_multiplier(num):\n",
    "    def inner_func(x):\n",
    "        return num * x\n",
    "    return inner_func\n",
    "\n",
    "\n",
    "five_times = create_multiplier(5)\n",
    "print(five_times)\n",
    "five_times(5)"
   ]
  },
  {
   "cell_type": "code",
   "execution_count": null,
   "metadata": {},
   "outputs": [],
   "source": [
    "five_times(10)"
   ]
  },
  {
   "cell_type": "code",
   "execution_count": null,
   "metadata": {},
   "outputs": [],
   "source": [
    "three_times = create_multiplier(3)\n",
    "\n",
    "print(three_times)\n",
    "\n",
    "three_times(10)"
   ]
  },
  {
   "cell_type": "markdown",
   "metadata": {},
   "source": [
    "#### Returning a Lambda from a Function"
   ]
  },
  {
   "cell_type": "code",
   "execution_count": null,
   "metadata": {},
   "outputs": [],
   "source": [
    "def new_multiplier(num):\n",
    "    return lambda x: num * x\n",
    "\n",
    "five = new_multiplier(5)\n",
    "print(five)\n",
    "\n",
    "three = new_multiplier(3)\n",
    "print(three)\n",
    "\n",
    "\n",
    "print(five(10), three(10))"
   ]
  },
  {
   "cell_type": "markdown",
   "metadata": {},
   "source": [
    "#### If Statements within Lambdas"
   ]
  },
  {
   "cell_type": "code",
   "execution_count": null,
   "metadata": {},
   "outputs": [],
   "source": [
    "def do_something(num):\n",
    "    if num > 10:\n",
    "        return num * 2\n",
    "    else:\n",
    "        return num + 2\n",
    "    \n",
    "do_something(5)"
   ]
  },
  {
   "cell_type": "code",
   "execution_count": null,
   "metadata": {},
   "outputs": [],
   "source": [
    "# Ternary: value_if_true if condition else value_if_false\n",
    "def do_something_again(num):\n",
    "    return num * 2 if num > 10 else num + 2\n",
    "\n",
    "do_something_again(5)"
   ]
  },
  {
   "cell_type": "code",
   "execution_count": null,
   "metadata": {},
   "outputs": [],
   "source": [
    "# lambda input(s): <value to return if true> if <condition> else <value to return if false>\n",
    "\n",
    "(lambda num: num * 2 if num > 10 else num + 2)(5)"
   ]
  },
  {
   "cell_type": "code",
   "execution_count": null,
   "metadata": {},
   "outputs": [],
   "source": [
    "def do_something_else(num):\n",
    "    if num > 100:\n",
    "        return num \n",
    "    elif num > 50:\n",
    "        return num-10\n",
    "    elif num > 20:\n",
    "        return num ** 2\n",
    "    else:\n",
    "        return 0\n",
    "    \n",
    "    \n",
    "print(do_something_else(110))\n",
    "print(do_something_else(80))\n",
    "print(do_something_else(30))\n",
    "print(do_something_else(10))"
   ]
  },
  {
   "cell_type": "code",
   "execution_count": null,
   "metadata": {},
   "outputs": [],
   "source": [
    "def do_something_ternary(num):\n",
    "    return num if num > 100 else num-10 if num > 50 else num**2 if num > 20 else 0\n",
    "\n",
    "print(do_something_ternary(110))"
   ]
  },
  {
   "cell_type": "code",
   "execution_count": null,
   "metadata": {},
   "outputs": [],
   "source": [
    "(lambda num: num if num > 100 else num-10 if num > 50 else num**2 if num > 20 else 0)(10)"
   ]
  },
  {
   "cell_type": "code",
   "execution_count": null,
   "metadata": {},
   "outputs": [],
   "source": [
    "age = int(input('How old are you? '))\n",
    "\n",
    "age_group = 'Senior' if age > 65 else 'Adult' if age > 18 else 'Child'\n",
    "\n",
    "print(f\"Your age of {age} is in the {age_group} age group\")"
   ]
  },
  {
   "cell_type": "code",
   "execution_count": null,
   "metadata": {},
   "outputs": [],
   "source": [
    "help(sorted)"
   ]
  },
  {
   "cell_type": "code",
   "execution_count": null,
   "metadata": {},
   "outputs": [],
   "source": [
    "\n",
    "sorted(['Brian', 'Taty', 'Sam', 'Dereck'], key=lambda name: name[1], reverse=True)"
   ]
  },
  {
   "cell_type": "markdown",
   "metadata": {},
   "source": [
    "#### In-Class Exercise #1 <br>\n",
    "<p>Write an anonymous function that cubes the arguments passed in and assign the anonymous function to a variable 'f'.</p>"
   ]
  },
  {
   "cell_type": "code",
   "execution_count": null,
   "metadata": {},
   "outputs": [],
   "source": [
    "(lambda num: num**3)(4)\n",
    "def cubed(num):\n",
    "    return lambda x: x **num\n",
    "number = cubed(3)\n",
    "\n",
    "print (number(2))\n"
   ]
  },
  {
   "cell_type": "markdown",
   "metadata": {},
   "source": [
    "## Map <br>\n",
    "<p>The map function allows you to iterate over an entire list while running a function on each item of the list. This is why the map function works well with lambda's, because it simplifies things and you write less lines of code.<br>The syntax for a map function is \"map(function to be used, list to be used)\"<br>However, you must be careful, as the map function returns a map object, not a list. To turn it into a list we use the list() type conversion.</p>"
   ]
  },
  {
   "cell_type": "markdown",
   "metadata": {},
   "source": [
    "#### Syntax"
   ]
  },
  {
   "cell_type": "code",
   "execution_count": null,
   "metadata": {
    "scrolled": true
   },
   "outputs": [],
   "source": [
    "help(map)"
   ]
  },
  {
   "cell_type": "code",
   "execution_count": null,
   "metadata": {},
   "outputs": [],
   "source": [
    "def squared_minus_two(number):\n",
    "    return number**2 - 2\n",
    "\n",
    "\n",
    "numbers = [12, 3, 7, 3, 6, 58, 23, 2, 44]\n",
    "\n",
    "new_nums = []\n",
    "for num in numbers:\n",
    "    new_num = squared_minus_two(num)\n",
    "    new_nums.append(new_num)\n",
    "    \n",
    "print(new_nums)"
   ]
  },
  {
   "cell_type": "code",
   "execution_count": null,
   "metadata": {},
   "outputs": [],
   "source": [
    "# map(function, *iterable -> List, Tuple, String, Set, Dict, etc.)\n",
    "\n",
    "list(map(squared_minus_two, numbers))"
   ]
  },
  {
   "cell_type": "code",
   "execution_count": null,
   "metadata": {},
   "outputs": [],
   "source": [
    "list(map(squared_minus_two, [1, 2, 3, 4]))"
   ]
  },
  {
   "cell_type": "code",
   "execution_count": null,
   "metadata": {},
   "outputs": [],
   "source": [
    "list(map(do_something_ternary, numbers))"
   ]
  },
  {
   "cell_type": "code",
   "execution_count": null,
   "metadata": {
    "scrolled": true
   },
   "outputs": [],
   "source": [
    "x_values = [1, 2, 3, 4, 5, 6, 7]\n",
    "y_values = [10, 12, 25, 23, 543, 213, 333]\n",
    "\n",
    "def some_func(x, y):\n",
    "    print(f'X={x}, Y={y}')\n",
    "    return x * y\n",
    "\n",
    "\n",
    "list(map(some_func, x_values, y_values))\n"
   ]
  },
  {
   "cell_type": "code",
   "execution_count": null,
   "metadata": {},
   "outputs": [],
   "source": [
    "x_values = [1, 2, 3, 4, 5, 6, 7]\n",
    "y_values = [10, 12, 25, 23]\n",
    "\n",
    "def some_func(x, y):\n",
    "    print(f'X={x}, Y={y}')\n",
    "    return x * y\n",
    "\n",
    "\n",
    "list(map(some_func, x_values, y_values))"
   ]
  },
  {
   "cell_type": "markdown",
   "metadata": {},
   "source": [
    "#### Using Lambda's with Map"
   ]
  },
  {
   "cell_type": "code",
   "execution_count": null,
   "metadata": {},
   "outputs": [],
   "source": [
    "numbers_again = [4, 6, 7, 2, 6, 7, 2, 8, 12]\n",
    "list(map(lambda num: num**2 - 2, numbers_again))"
   ]
  },
  {
   "cell_type": "code",
   "execution_count": null,
   "metadata": {},
   "outputs": [],
   "source": [
    "def fdkljf(a, b):\n",
    "    return b/a"
   ]
  },
  {
   "cell_type": "code",
   "execution_count": null,
   "metadata": {},
   "outputs": [],
   "source": [
    "x_values = [1, 2, 3, 4, 5, 6, 7]\n",
    "y_values = [10, 12, 25, 23]\n",
    "\n",
    "list(map(lambda a, b: b/a, x_values, y_values))"
   ]
  },
  {
   "cell_type": "markdown",
   "metadata": {},
   "source": [
    "#### In-Class Exercise #2 <br>\n",
    "<p>Use the map function to double each number if it is even and halve it if it is odd</p>"
   ]
  },
  {
   "cell_type": "code",
   "execution_count": null,
   "metadata": {},
   "outputs": [],
   "source": [
    "numbers = range(1,11)\n",
    "\n",
    "# [0.5, 4, 1.5, 8, 2.5, 12, 3.5, 16, 4.5, 20]\n",
    "list(map(lambda x: x*2 if x % 2 == 0 else x/2, numbers))"
   ]
  },
  {
   "cell_type": "code",
   "execution_count": null,
   "metadata": {},
   "outputs": [],
   "source": [
    "def even_odd(num):\n",
    "    if num % 2 == 0:\n",
    "        return num*2\n",
    "    else:\n",
    "        return num/2\n",
    "list(map(even_odd, numbers))"
   ]
  },
  {
   "cell_type": "markdown",
   "metadata": {},
   "source": [
    "## Filter() <br>\n",
    "<p>Filter's are similar to the map function, where you're able to pass a function argument and a list argument and filter out something from the list based on the conditions passed. Similar to the map function, it returns a filter object, so you need to type convert it to a list()</p>"
   ]
  },
  {
   "cell_type": "markdown",
   "metadata": {},
   "source": [
    "#### Syntax"
   ]
  },
  {
   "cell_type": "code",
   "execution_count": null,
   "metadata": {
    "scrolled": true
   },
   "outputs": [],
   "source": [
    "help(filter)"
   ]
  },
  {
   "cell_type": "code",
   "execution_count": null,
   "metadata": {},
   "outputs": [],
   "source": [
    "names = ['Bob', 'Andy', 'Allison', 'Bill', 'Max', 'Amy', 'Brianna']\n",
    "\n",
    "def starts_with_a(name):\n",
    "    return name[0].upper() == 'A'\n",
    "#         return True\n",
    "#     else:\n",
    "#         return False\n",
    "    \n",
    "a_names_map = list(map(starts_with_a, names))\n",
    "print(a_names_map)"
   ]
  },
  {
   "cell_type": "code",
   "execution_count": null,
   "metadata": {},
   "outputs": [],
   "source": [
    "a_names_filter = list(filter(starts_with_a, names))\n",
    "print(a_names_filter)"
   ]
  },
  {
   "cell_type": "code",
   "execution_count": null,
   "metadata": {},
   "outputs": [],
   "source": [
    "def remainder(num):\n",
    "    return num % 3\n",
    "\n",
    "my_nums = [1, 2, 3, 4, 5, 6, 7, 8, 9, 10]\n",
    "list(map(remainder, my_nums))"
   ]
  },
  {
   "cell_type": "code",
   "execution_count": null,
   "metadata": {},
   "outputs": [],
   "source": [
    "list(filter(remainder, my_nums))"
   ]
  },
  {
   "cell_type": "code",
   "execution_count": null,
   "metadata": {},
   "outputs": [],
   "source": [
    "bool(1)"
   ]
  },
  {
   "cell_type": "code",
   "execution_count": null,
   "metadata": {},
   "outputs": [],
   "source": [
    "for i in range(-10,10):\n",
    "    print(i, bool(i))"
   ]
  },
  {
   "cell_type": "markdown",
   "metadata": {},
   "source": [
    "#### Using Lambda's with Filter()"
   ]
  },
  {
   "cell_type": "code",
   "execution_count": null,
   "metadata": {},
   "outputs": [],
   "source": [
    "list(filter(lambda name: True if name[0].upper() == 'A' else False, names))"
   ]
  },
  {
   "cell_type": "code",
   "execution_count": null,
   "metadata": {
    "scrolled": true
   },
   "outputs": [],
   "source": [
    "list(filter(lambda name: name[0].upper() == 'A', names))"
   ]
  },
  {
   "cell_type": "markdown",
   "metadata": {},
   "source": [
    "#### In-Class Exercise #3 <br>\n",
    "<p>Filter out all the numbers that are below the mean of the list.<br><b>Hint: Import the 'statistics' module</b></p>"
   ]
  },
  {
   "cell_type": "code",
   "execution_count": null,
   "metadata": {},
   "outputs": [],
   "source": [
    "import statistics\n",
    "from random import randint\n",
    "\n",
    "random_nums = [randint(1,100) for _ in range(20)]\n",
    "\n",
    "print(random_nums)\n",
    "\n",
    "list(filter(lambda num: num >= statistics.mean(random_nums), random_nums))\n",
    "def num_mean(num):\n",
    "    if num >= statistics.mean(random_nums):\n",
    "        return num\n",
    "\n",
    "list(filter(num_mean, random_nums))\n"
   ]
  },
  {
   "cell_type": "code",
   "execution_count": null,
   "metadata": {},
   "outputs": [],
   "source": []
  },
  {
   "cell_type": "code",
   "execution_count": null,
   "metadata": {},
   "outputs": [],
   "source": []
  },
  {
   "cell_type": "markdown",
   "metadata": {},
   "source": [
    "## Reduce() <br>\n",
    "<p>Be very careful when using this function, as of Python 3 it's been moved to the 'functools' library and no longer is a built-in function.<br>The creator of Python himself, says to just use a for loop instead.</p>"
   ]
  },
  {
   "cell_type": "markdown",
   "metadata": {},
   "source": [
    "#### Syntax"
   ]
  },
  {
   "cell_type": "code",
   "execution_count": null,
   "metadata": {},
   "outputs": [],
   "source": [
    "from functools import reduce\n",
    "\n",
    "help(reduce)"
   ]
  },
  {
   "cell_type": "code",
   "execution_count": null,
   "metadata": {},
   "outputs": [],
   "source": [
    "reduce(lambda x, y: x+y, [1, 2, 3, 4, 5])"
   ]
  },
  {
   "cell_type": "code",
   "execution_count": null,
   "metadata": {},
   "outputs": [],
   "source": []
  },
  {
   "cell_type": "code",
   "execution_count": null,
   "metadata": {},
   "outputs": [],
   "source": [
    "def add_nums(num1, num2):\n",
    "    print('===================')\n",
    "    print(f\"num1: {num1}\")\n",
    "    print(f\"num2: {num2}\")\n",
    "    print(f\"returns: {num1 + num2}\")\n",
    "    return num1 + num2\n",
    "\n",
    "list_1 = [2, 5, 8, 10, 15]\n",
    "result_add = reduce(add_nums, list_1)\n",
    "print(result_add)"
   ]
  },
  {
   "cell_type": "code",
   "execution_count": null,
   "metadata": {},
   "outputs": [],
   "source": [
    "total = 0\n",
    "for num in list_1:\n",
    "    print(f\"total: {total}, num: {num}\")\n",
    "    total += num\n",
    "print(total)"
   ]
  },
  {
   "cell_type": "markdown",
   "metadata": {},
   "source": [
    "#### Using Lambda's with Reduce()"
   ]
  },
  {
   "cell_type": "code",
   "execution_count": null,
   "metadata": {},
   "outputs": [],
   "source": [
    "result_lambda = reduce(lambda num1, num2: num1 * num2, list_1)\n",
    "result_lambda"
   ]
  },
  {
   "cell_type": "code",
   "execution_count": null,
   "metadata": {},
   "outputs": [],
   "source": [
    "prod = 1\n",
    "for num in list_1:\n",
    "    prod *= num\n",
    "print(prod)"
   ]
  },
  {
   "cell_type": "markdown",
   "metadata": {},
   "source": [
    "#### In-Class Exercise #4 <br>\n",
    "<p>Use the reduce function to multiply the numbers in the list below together with a lambda function.</p>"
   ]
  },
  {
   "cell_type": "code",
   "execution_count": null,
   "metadata": {},
   "outputs": [],
   "source": [
    "list_2 = [2, 4, 6, 8, 10]\n",
    "result_lambda = reduce(lambda num1, num2: num1 * num2, list_2)\n",
    "print(result_lambda)"
   ]
  },
  {
   "cell_type": "markdown",
   "metadata": {},
   "source": [
    "## Recursion <br>\n",
    "<p>Recursion means that a function is calling itself, so it contanstly executes until a base case is reached. It will then push the returning values back up the chain until the function is complete. A prime example of recursion is computing factorials... such that 5! (factorial) is 5*4*3*2*1 which equals 120.</p>"
   ]
  },
  {
   "cell_type": "code",
   "execution_count": null,
   "metadata": {
    "scrolled": false
   },
   "outputs": [],
   "source": [
    "\n",
    "\n",
    "def capitalize(name):\n",
    "    return name[0].upper() + name[1:].lower() \n",
    "\n",
    "def full_name(name, last):\n",
    "    return capitalize(name) + ' ' + capitalize(last)\n",
    "\n",
    "def greet_person(name, last, day_of_week):\n",
    "    print('Hello')\n",
    "    person_full_name = full_name(name, last)\n",
    "    print(f'Hello {person_full_name}, it sure is beautiful on this {capitalize(day_of_week)}!')\n",
    "    \n",
    "    \n",
    "greet_person('steph', 'curry', 'tuesday')    "
   ]
  },
  {
   "cell_type": "markdown",
   "metadata": {},
   "source": [
    "#### Implementing a Base Case"
   ]
  },
  {
   "cell_type": "code",
   "execution_count": null,
   "metadata": {},
   "outputs": [],
   "source": [
    "def add_nums(num):\n",
    "    if num <= 1:\n",
    "        print(f\"add_nums({num}) = {num}\")\n",
    "        return num\n",
    "    else:\n",
    "        print(f\"add_nums({num}) = {num} + add_nums({num - 1})\")\n",
    "        return num + add_nums(num - 1)\n",
    "\n",
    "add_nums(5)"
   ]
  },
  {
   "cell_type": "markdown",
   "metadata": {},
   "source": [
    "#### Writing a Factorial Function"
   ]
  },
  {
   "cell_type": "code",
   "execution_count": null,
   "metadata": {},
   "outputs": [],
   "source": [
    "# 5! = 5 * 4!\n",
    "# 4! = 4 * 3!\n",
    "# ...\n",
    "# 1! = 1\n",
    "\n",
    "def factorial(n):\n",
    "    # Base Case: Line 7-8\n",
    "    if n <= 1:\n",
    "        return 1\n",
    "    else:\n",
    "        return n * factorial(n-1)\n",
    "    \n",
    "\n",
    "factorial(5)"
   ]
  },
  {
   "cell_type": "code",
   "execution_count": null,
   "metadata": {},
   "outputs": [],
   "source": []
  },
  {
   "cell_type": "markdown",
   "metadata": {},
   "source": [
    "## Generators <br>\n",
    "<p>Generators are a type of iterable, like lists or tuples. They do not allow indexing, but they can still be iterated through with for loops. They are created using functions and the yield statement.</p>"
   ]
  },
  {
   "cell_type": "code",
   "execution_count": null,
   "metadata": {},
   "outputs": [],
   "source": [
    "a = map(len, ['Brian', 'Stanton', 'Coding Temple'])\n",
    "\n",
    "print(a)"
   ]
  },
  {
   "cell_type": "code",
   "execution_count": null,
   "metadata": {
    "scrolled": true
   },
   "outputs": [],
   "source": [
    "for i in a:\n",
    "    print(i)"
   ]
  },
  {
   "cell_type": "code",
   "execution_count": null,
   "metadata": {},
   "outputs": [],
   "source": [
    "for i in a:\n",
    "    print(i)"
   ]
  },
  {
   "cell_type": "code",
   "execution_count": null,
   "metadata": {
    "scrolled": false
   },
   "outputs": [],
   "source": [
    "a_new_list = [2, 3, 3, 4, 5, 6, 7]\n",
    "\n",
    "list_iter = iter(a_new_list)\n"
   ]
  },
  {
   "cell_type": "code",
   "execution_count": null,
   "metadata": {},
   "outputs": [],
   "source": [
    "help(next)"
   ]
  },
  {
   "cell_type": "code",
   "execution_count": null,
   "metadata": {},
   "outputs": [],
   "source": [
    "next(list_iter)"
   ]
  },
  {
   "cell_type": "code",
   "execution_count": null,
   "metadata": {},
   "outputs": [],
   "source": [
    "b = list(map(len, ['Brian', 'Stanton', 'Coding Temple']))\n",
    "\n",
    "print(b)\n",
    "\n",
    "print(b[1])\n",
    "\n",
    "for i in b:\n",
    "    print(i)\n",
    "    \n",
    "for i in b:\n",
    "    print(i)"
   ]
  },
  {
   "cell_type": "markdown",
   "metadata": {},
   "source": [
    "#### Yield Keyword <br>\n",
    "<p>The yield keyword denotes a generator, it doesn't return so it won't leave the function and reset all variables in the function scope, instead it yields the number back to the caller.</p>"
   ]
  },
  {
   "cell_type": "code",
   "execution_count": null,
   "metadata": {},
   "outputs": [],
   "source": [
    "def my_range(start, stop, step=1):\n",
    "    while start < stop:\n",
    "        return start\n",
    "        start += step\n",
    "        \n",
    "        \n",
    "my_range(0,10)"
   ]
  },
  {
   "cell_type": "code",
   "execution_count": null,
   "metadata": {
    "scrolled": true
   },
   "outputs": [],
   "source": [
    "def my_range(start, stop, step=1):\n",
    "    while start < stop:\n",
    "        yield start\n",
    "        start += step\n",
    "        \n",
    "        \n",
    "my_range(0,10)"
   ]
  },
  {
   "cell_type": "code",
   "execution_count": null,
   "metadata": {},
   "outputs": [],
   "source": [
    "y = my_range(1,100)\n",
    "\n",
    "print(y)"
   ]
  },
  {
   "cell_type": "code",
   "execution_count": null,
   "metadata": {},
   "outputs": [],
   "source": [
    "for x in my_range(1,10):\n",
    "    print(x, x**2)"
   ]
  },
  {
   "cell_type": "code",
   "execution_count": null,
   "metadata": {},
   "outputs": [],
   "source": [
    "range_iter = my_range(0,10)\n",
    "\n",
    "for num in range_iter:\n",
    "    print(num)\n",
    "    \n",
    "print(50*'=')\n",
    "\n",
    "for num in range_iter:\n",
    "    print(num)"
   ]
  },
  {
   "cell_type": "code",
   "execution_count": null,
   "metadata": {},
   "outputs": [],
   "source": [
    "range_iter_again = my_range(0,100,5)\n",
    "\n",
    "print(range_iter_again)"
   ]
  },
  {
   "cell_type": "code",
   "execution_count": null,
   "metadata": {},
   "outputs": [],
   "source": [
    "next(range_iter_again)"
   ]
  },
  {
   "cell_type": "markdown",
   "metadata": {},
   "source": [
    "#### Infinite Generator"
   ]
  },
  {
   "cell_type": "code",
   "execution_count": null,
   "metadata": {},
   "outputs": [],
   "source": [
    "# bad, never create infinite loops\n",
    "def infinite(x):\n",
    "    while True:\n",
    "        yield x\n",
    "        x += 1\n",
    "        \n",
    "gen = infinite(1)"
   ]
  },
  {
   "cell_type": "code",
   "execution_count": null,
   "metadata": {},
   "outputs": [],
   "source": [
    "next(gen)"
   ]
  },
  {
   "cell_type": "code",
   "execution_count": null,
   "metadata": {},
   "outputs": [],
   "source": [
    "def fibonacci(n):\n",
    "    x= 0\n",
    "    y= 1\n",
    "    for _ in range(n):\n",
    "        yield x\n",
    "        x = y\n",
    "        y = x +y"
   ]
  },
  {
   "cell_type": "markdown",
   "metadata": {},
   "source": [
    "# Exercises"
   ]
  },
  {
   "cell_type": "markdown",
   "metadata": {},
   "source": [
    "### Exercise #1 <br>\n",
    "<p>Filter out all of the empty strings from the list below</p>\n",
    "\n",
    "`Output: ['Argentina', 'San Diego', 'Boston', 'New York']`"
   ]
  },
  {
   "cell_type": "code",
   "execution_count": null,
   "metadata": {},
   "outputs": [],
   "source": [
    "places = [\" \",\"Argentina\", \" \", \"San Diego\",\"\",\"  \",\"\",\"Boston\",\"New York\"]\n",
    "\n",
    "list(filter(lambda x:len(x) > 2, places))"
   ]
  },
  {
   "cell_type": "markdown",
   "metadata": {},
   "source": [
    "### Exercise #2 <br>\n",
    "<p>Write an anonymous function that sorts this list by the last name...<br><b>Hint: Use the \".sort()\" method or the \"sorted()\" function and access the key\"</b></p>\n",
    "\n",
    "`Output: ['Victor aNisimov', 'Gary A.J. Bernstein', 'Joel Carter', 'Andrew P. Garfield', 'David hassELHOFF']`"
   ]
  },
  {
   "cell_type": "code",
   "execution_count": null,
   "metadata": {},
   "outputs": [],
   "source": [
    "author = [\"Joel Carter\", \"Victor aNisimov\", \"Andrew P. Garfield\",\"David hassELHOFF\",\"Gary A.J. Bernstein\"]\n",
    "\n",
    "sorted(author, key=lambda name: name.lower().split()[-1] )"
   ]
  },
  {
   "cell_type": "markdown",
   "metadata": {},
   "source": [
    "### Exercise #3 <br>\n",
    "<p>Convert the list below from Celsius to Farhenheit, using the map function with a lambda...</p>\n",
    "\n",
    "`Output: [('Nashua', 89.6), ('Boston', 53.6), ('Los Angeles', 111.2), ('Miami', 84.2)]\n",
    "`"
   ]
  },
  {
   "cell_type": "code",
   "execution_count": null,
   "metadata": {},
   "outputs": [],
   "source": [
    "# F = (9/5)*C + 32\n",
    "places = [('Nashua',32),(\"Boston\",12),(\"Los Angeles\",44),(\"Miami\",29)]\n",
    "list(map(lambda x: (x[0], (9/5)* x[1] + 32), places))"
   ]
  },
  {
   "cell_type": "markdown",
   "metadata": {},
   "source": [
    "### Exercise #4 <br>\n",
    "<p>Write a recursion function to perform the fibonacci sequence up to the number passed in.</p>\n",
    "\n",
    "`Output for fib(5) => \n",
    "Iteration 0: 1\n",
    "Iteration 1: 1\n",
    "Iteration 2: 2\n",
    "Iteration 3: 3\n",
    "Iteration 4: 5\n",
    "Iteration 5: 8`"
   ]
  },
  {
   "cell_type": "code",
   "execution_count": null,
   "metadata": {
    "scrolled": true
   },
   "outputs": [],
   "source": [
    "def fib(num):\n",
    "    if num == 0:\n",
    "        return num +1\n",
    "    else:\n",
    "        print(f\"iteration:{num} = {num} + fib({num-1})\")\n",
    "        return num + fib(num+1)\n",
    "fib(5)"
   ]
  },
  {
   "cell_type": "markdown",
   "metadata": {},
   "source": [
    "#### Exercise #5 <br>\n",
    "<p>Create a generator that takes a number argument and yields that number squared, then prints each number squared until zero is reached.</p>"
   ]
  },
  {
   "cell_type": "code",
   "execution_count": null,
   "metadata": {},
   "outputs": [],
   "source": [
    "def add_nums(num):\n",
    "    if num <= 1:\n",
    "        print(f\"add_nums({num}) = {num}\")\n",
    "        return num\n",
    "    else:\n",
    "        print(f\"add_nums({num}) = {num} + add_nums({num - 1})\")\n",
    "        return num + add_nums(num - 1)\n",
    "\n",
    "add_nums(5)"
   ]
  },
  {
   "cell_type": "code",
   "execution_count": null,
   "metadata": {},
   "outputs": [],
   "source": []
  }
 ],
 "metadata": {
  "kernelspec": {
   "display_name": "Python 3 (ipykernel)",
   "language": "python",
   "name": "python3"
  },
  "language_info": {
   "codemirror_mode": {
    "name": "ipython",
    "version": 3
   },
   "file_extension": ".py",
   "mimetype": "text/x-python",
   "name": "python",
   "nbconvert_exporter": "python",
   "pygments_lexer": "ipython3",
   "version": "3.9.12"
  }
 },
 "nbformat": 4,
 "nbformat_minor": 2
}
